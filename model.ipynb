{
 "cells": [
  {
   "cell_type": "markdown",
   "metadata": {},
   "source": [
    "Before we begin with models, I'm gonna have to import all necessary libraries and load the cleaned data first"
   ]
  },
  {
   "cell_type": "code",
   "execution_count": 1,
   "metadata": {},
   "outputs": [],
   "source": [
    "# Import necessary libraries\n",
    "import pandas as pd\n",
    "import numpy as np\n",
    "import matplotlib.pyplot as plt\n",
    "import yfinance as yf\n",
    "from sklearn.model_selection import train_test_split\n",
    "from sklearn.preprocessing import StandardScaler\n",
    "from sklearn.linear_model import LogisticRegression\n",
    "from sklearn.metrics import classification_report, accuracy_score, roc_auc_score"
   ]
  },
  {
   "cell_type": "code",
   "execution_count": 2,
   "metadata": {},
   "outputs": [
    {
     "data": {
      "text/html": [
       "<div>\n",
       "<style scoped>\n",
       "    .dataframe tbody tr th:only-of-type {\n",
       "        vertical-align: middle;\n",
       "    }\n",
       "\n",
       "    .dataframe tbody tr th {\n",
       "        vertical-align: top;\n",
       "    }\n",
       "\n",
       "    .dataframe thead th {\n",
       "        text-align: right;\n",
       "    }\n",
       "</style>\n",
       "<table border=\"1\" class=\"dataframe\">\n",
       "  <thead>\n",
       "    <tr style=\"text-align: right;\">\n",
       "      <th></th>\n",
       "      <th>Open</th>\n",
       "      <th>High</th>\n",
       "      <th>Low</th>\n",
       "      <th>Close</th>\n",
       "      <th>Volume</th>\n",
       "      <th>Daily_Return</th>\n",
       "      <th>Rolling_Std</th>\n",
       "      <th>Lag_1</th>\n",
       "      <th>Lag_2</th>\n",
       "      <th>Lag_3</th>\n",
       "      <th>Lag_Return_1</th>\n",
       "      <th>Lag_Return_2</th>\n",
       "      <th>Lag_Return_3</th>\n",
       "      <th>Tomorrow</th>\n",
       "      <th>Target</th>\n",
       "    </tr>\n",
       "    <tr>\n",
       "      <th>Date</th>\n",
       "      <th></th>\n",
       "      <th></th>\n",
       "      <th></th>\n",
       "      <th></th>\n",
       "      <th></th>\n",
       "      <th></th>\n",
       "      <th></th>\n",
       "      <th></th>\n",
       "      <th></th>\n",
       "      <th></th>\n",
       "      <th></th>\n",
       "      <th></th>\n",
       "      <th></th>\n",
       "      <th></th>\n",
       "      <th></th>\n",
       "    </tr>\n",
       "  </thead>\n",
       "  <tbody>\n",
       "    <tr>\n",
       "      <th>1990-02-12 00:00:00-05:00</th>\n",
       "      <td>333.619995</td>\n",
       "      <td>333.619995</td>\n",
       "      <td>329.970001</td>\n",
       "      <td>330.079987</td>\n",
       "      <td>118390000</td>\n",
       "      <td>-0.010611</td>\n",
       "      <td>10.659240</td>\n",
       "      <td>333.619995</td>\n",
       "      <td>332.959991</td>\n",
       "      <td>333.750000</td>\n",
       "      <td>0.001982</td>\n",
       "      <td>-0.002367</td>\n",
       "      <td>0.012407</td>\n",
       "      <td>331.019989</td>\n",
       "      <td>1</td>\n",
       "    </tr>\n",
       "    <tr>\n",
       "      <th>1990-02-13 00:00:00-05:00</th>\n",
       "      <td>330.079987</td>\n",
       "      <td>331.609985</td>\n",
       "      <td>327.920013</td>\n",
       "      <td>331.019989</td>\n",
       "      <td>144490000</td>\n",
       "      <td>0.002848</td>\n",
       "      <td>9.876208</td>\n",
       "      <td>330.079987</td>\n",
       "      <td>333.619995</td>\n",
       "      <td>332.959991</td>\n",
       "      <td>-0.010611</td>\n",
       "      <td>0.001982</td>\n",
       "      <td>-0.002367</td>\n",
       "      <td>332.010010</td>\n",
       "      <td>1</td>\n",
       "    </tr>\n",
       "    <tr>\n",
       "      <th>1990-02-14 00:00:00-05:00</th>\n",
       "      <td>331.019989</td>\n",
       "      <td>333.200012</td>\n",
       "      <td>330.640015</td>\n",
       "      <td>332.010010</td>\n",
       "      <td>138530000</td>\n",
       "      <td>0.002991</td>\n",
       "      <td>8.987605</td>\n",
       "      <td>331.019989</td>\n",
       "      <td>330.079987</td>\n",
       "      <td>333.619995</td>\n",
       "      <td>0.002848</td>\n",
       "      <td>-0.010611</td>\n",
       "      <td>0.001982</td>\n",
       "      <td>334.890015</td>\n",
       "      <td>1</td>\n",
       "    </tr>\n",
       "    <tr>\n",
       "      <th>1990-02-15 00:00:00-05:00</th>\n",
       "      <td>332.010010</td>\n",
       "      <td>335.209991</td>\n",
       "      <td>331.609985</td>\n",
       "      <td>334.890015</td>\n",
       "      <td>174620000</td>\n",
       "      <td>0.008674</td>\n",
       "      <td>8.171342</td>\n",
       "      <td>332.010010</td>\n",
       "      <td>331.019989</td>\n",
       "      <td>330.079987</td>\n",
       "      <td>0.002991</td>\n",
       "      <td>0.002848</td>\n",
       "      <td>-0.010611</td>\n",
       "      <td>332.720001</td>\n",
       "      <td>0</td>\n",
       "    </tr>\n",
       "    <tr>\n",
       "      <th>1990-02-16 00:00:00-05:00</th>\n",
       "      <td>334.890015</td>\n",
       "      <td>335.640015</td>\n",
       "      <td>332.420013</td>\n",
       "      <td>332.720001</td>\n",
       "      <td>166840000</td>\n",
       "      <td>-0.006480</td>\n",
       "      <td>7.518505</td>\n",
       "      <td>334.890015</td>\n",
       "      <td>332.010010</td>\n",
       "      <td>331.019989</td>\n",
       "      <td>0.008674</td>\n",
       "      <td>0.002991</td>\n",
       "      <td>0.002848</td>\n",
       "      <td>327.989990</td>\n",
       "      <td>0</td>\n",
       "    </tr>\n",
       "    <tr>\n",
       "      <th>...</th>\n",
       "      <td>...</td>\n",
       "      <td>...</td>\n",
       "      <td>...</td>\n",
       "      <td>...</td>\n",
       "      <td>...</td>\n",
       "      <td>...</td>\n",
       "      <td>...</td>\n",
       "      <td>...</td>\n",
       "      <td>...</td>\n",
       "      <td>...</td>\n",
       "      <td>...</td>\n",
       "      <td>...</td>\n",
       "      <td>...</td>\n",
       "      <td>...</td>\n",
       "      <td>...</td>\n",
       "    </tr>\n",
       "    <tr>\n",
       "      <th>2024-07-26 00:00:00-04:00</th>\n",
       "      <td>5433.669922</td>\n",
       "      <td>5488.319824</td>\n",
       "      <td>5430.700195</td>\n",
       "      <td>5459.100098</td>\n",
       "      <td>3638770000</td>\n",
       "      <td>0.011090</td>\n",
       "      <td>70.624169</td>\n",
       "      <td>5399.220215</td>\n",
       "      <td>5427.129883</td>\n",
       "      <td>5555.740234</td>\n",
       "      <td>-0.005143</td>\n",
       "      <td>-0.023149</td>\n",
       "      <td>-0.001558</td>\n",
       "      <td>5463.540039</td>\n",
       "      <td>1</td>\n",
       "    </tr>\n",
       "    <tr>\n",
       "      <th>2024-07-29 00:00:00-04:00</th>\n",
       "      <td>5476.549805</td>\n",
       "      <td>5487.740234</td>\n",
       "      <td>5444.439941</td>\n",
       "      <td>5463.540039</td>\n",
       "      <td>3379970000</td>\n",
       "      <td>0.000813</td>\n",
       "      <td>69.612330</td>\n",
       "      <td>5459.100098</td>\n",
       "      <td>5399.220215</td>\n",
       "      <td>5427.129883</td>\n",
       "      <td>0.011090</td>\n",
       "      <td>-0.005143</td>\n",
       "      <td>-0.023149</td>\n",
       "      <td>5436.439941</td>\n",
       "      <td>0</td>\n",
       "    </tr>\n",
       "    <tr>\n",
       "      <th>2024-07-30 00:00:00-04:00</th>\n",
       "      <td>5478.729980</td>\n",
       "      <td>5489.459961</td>\n",
       "      <td>5401.700195</td>\n",
       "      <td>5436.439941</td>\n",
       "      <td>3777740000</td>\n",
       "      <td>-0.004960</td>\n",
       "      <td>69.410072</td>\n",
       "      <td>5463.540039</td>\n",
       "      <td>5459.100098</td>\n",
       "      <td>5399.220215</td>\n",
       "      <td>0.000813</td>\n",
       "      <td>0.011090</td>\n",
       "      <td>-0.005143</td>\n",
       "      <td>5522.299805</td>\n",
       "      <td>1</td>\n",
       "    </tr>\n",
       "    <tr>\n",
       "      <th>2024-07-31 00:00:00-04:00</th>\n",
       "      <td>5505.589844</td>\n",
       "      <td>5551.509766</td>\n",
       "      <td>5493.750000</td>\n",
       "      <td>5522.299805</td>\n",
       "      <td>4546910000</td>\n",
       "      <td>0.015793</td>\n",
       "      <td>68.886528</td>\n",
       "      <td>5436.439941</td>\n",
       "      <td>5463.540039</td>\n",
       "      <td>5459.100098</td>\n",
       "      <td>-0.004960</td>\n",
       "      <td>0.000813</td>\n",
       "      <td>0.011090</td>\n",
       "      <td>5446.680176</td>\n",
       "      <td>0</td>\n",
       "    </tr>\n",
       "    <tr>\n",
       "      <th>2024-08-01 00:00:00-04:00</th>\n",
       "      <td>5537.839844</td>\n",
       "      <td>5566.160156</td>\n",
       "      <td>5410.419922</td>\n",
       "      <td>5446.680176</td>\n",
       "      <td>4703620000</td>\n",
       "      <td>-0.013694</td>\n",
       "      <td>69.937897</td>\n",
       "      <td>5522.299805</td>\n",
       "      <td>5436.439941</td>\n",
       "      <td>5463.540039</td>\n",
       "      <td>0.015793</td>\n",
       "      <td>-0.004960</td>\n",
       "      <td>0.000813</td>\n",
       "      <td>5346.560059</td>\n",
       "      <td>0</td>\n",
       "    </tr>\n",
       "  </tbody>\n",
       "</table>\n",
       "<p>8683 rows × 15 columns</p>\n",
       "</div>"
      ],
      "text/plain": [
       "                                  Open         High          Low        Close  \\\n",
       "Date                                                                            \n",
       "1990-02-12 00:00:00-05:00   333.619995   333.619995   329.970001   330.079987   \n",
       "1990-02-13 00:00:00-05:00   330.079987   331.609985   327.920013   331.019989   \n",
       "1990-02-14 00:00:00-05:00   331.019989   333.200012   330.640015   332.010010   \n",
       "1990-02-15 00:00:00-05:00   332.010010   335.209991   331.609985   334.890015   \n",
       "1990-02-16 00:00:00-05:00   334.890015   335.640015   332.420013   332.720001   \n",
       "...                                ...          ...          ...          ...   \n",
       "2024-07-26 00:00:00-04:00  5433.669922  5488.319824  5430.700195  5459.100098   \n",
       "2024-07-29 00:00:00-04:00  5476.549805  5487.740234  5444.439941  5463.540039   \n",
       "2024-07-30 00:00:00-04:00  5478.729980  5489.459961  5401.700195  5436.439941   \n",
       "2024-07-31 00:00:00-04:00  5505.589844  5551.509766  5493.750000  5522.299805   \n",
       "2024-08-01 00:00:00-04:00  5537.839844  5566.160156  5410.419922  5446.680176   \n",
       "\n",
       "                               Volume  Daily_Return  Rolling_Std        Lag_1  \\\n",
       "Date                                                                            \n",
       "1990-02-12 00:00:00-05:00   118390000     -0.010611    10.659240   333.619995   \n",
       "1990-02-13 00:00:00-05:00   144490000      0.002848     9.876208   330.079987   \n",
       "1990-02-14 00:00:00-05:00   138530000      0.002991     8.987605   331.019989   \n",
       "1990-02-15 00:00:00-05:00   174620000      0.008674     8.171342   332.010010   \n",
       "1990-02-16 00:00:00-05:00   166840000     -0.006480     7.518505   334.890015   \n",
       "...                               ...           ...          ...          ...   \n",
       "2024-07-26 00:00:00-04:00  3638770000      0.011090    70.624169  5399.220215   \n",
       "2024-07-29 00:00:00-04:00  3379970000      0.000813    69.612330  5459.100098   \n",
       "2024-07-30 00:00:00-04:00  3777740000     -0.004960    69.410072  5463.540039   \n",
       "2024-07-31 00:00:00-04:00  4546910000      0.015793    68.886528  5436.439941   \n",
       "2024-08-01 00:00:00-04:00  4703620000     -0.013694    69.937897  5522.299805   \n",
       "\n",
       "                                 Lag_2        Lag_3  Lag_Return_1  \\\n",
       "Date                                                                \n",
       "1990-02-12 00:00:00-05:00   332.959991   333.750000      0.001982   \n",
       "1990-02-13 00:00:00-05:00   333.619995   332.959991     -0.010611   \n",
       "1990-02-14 00:00:00-05:00   330.079987   333.619995      0.002848   \n",
       "1990-02-15 00:00:00-05:00   331.019989   330.079987      0.002991   \n",
       "1990-02-16 00:00:00-05:00   332.010010   331.019989      0.008674   \n",
       "...                                ...          ...           ...   \n",
       "2024-07-26 00:00:00-04:00  5427.129883  5555.740234     -0.005143   \n",
       "2024-07-29 00:00:00-04:00  5399.220215  5427.129883      0.011090   \n",
       "2024-07-30 00:00:00-04:00  5459.100098  5399.220215      0.000813   \n",
       "2024-07-31 00:00:00-04:00  5463.540039  5459.100098     -0.004960   \n",
       "2024-08-01 00:00:00-04:00  5436.439941  5463.540039      0.015793   \n",
       "\n",
       "                           Lag_Return_2  Lag_Return_3     Tomorrow  Target  \n",
       "Date                                                                        \n",
       "1990-02-12 00:00:00-05:00     -0.002367      0.012407   331.019989       1  \n",
       "1990-02-13 00:00:00-05:00      0.001982     -0.002367   332.010010       1  \n",
       "1990-02-14 00:00:00-05:00     -0.010611      0.001982   334.890015       1  \n",
       "1990-02-15 00:00:00-05:00      0.002848     -0.010611   332.720001       0  \n",
       "1990-02-16 00:00:00-05:00      0.002991      0.002848   327.989990       0  \n",
       "...                                 ...           ...          ...     ...  \n",
       "2024-07-26 00:00:00-04:00     -0.023149     -0.001558  5463.540039       1  \n",
       "2024-07-29 00:00:00-04:00     -0.005143     -0.023149  5436.439941       0  \n",
       "2024-07-30 00:00:00-04:00      0.011090     -0.005143  5522.299805       1  \n",
       "2024-07-31 00:00:00-04:00      0.000813      0.011090  5446.680176       0  \n",
       "2024-08-01 00:00:00-04:00     -0.004960      0.000813  5346.560059       0  \n",
       "\n",
       "[8683 rows x 15 columns]"
      ]
     },
     "execution_count": 2,
     "metadata": {},
     "output_type": "execute_result"
    }
   ],
   "source": [
    "# Load S&P 500 data\n",
    "sp500 = yf.Ticker(\"^GSPC\").history(period=\"max\")\n",
    "\n",
    "# Remove unnecessary columns\n",
    "sp500.drop(columns=['Dividends', 'Stock Splits'], inplace=True)\n",
    "\n",
    "# Filter out data prior to 1990\n",
    "sp500 = sp500.loc['1990-01-01':]\n",
    "\n",
    "# Handle missing values\n",
    "sp500.fillna(method='ffill', inplace=True)  # Forward fill for missing values\n",
    "\n",
    "# Calculate Daily Return\n",
    "sp500['Daily_Return'] = sp500['Close'].pct_change()\n",
    "\n",
    "# Calculate Rolling Standard Deviation (30 days)\n",
    "sp500['Rolling_Std'] = sp500['Close'].rolling(window=30).std()\n",
    "\n",
    "# Calculate Lagged Prices (1, 2, 3 days)\n",
    "sp500['Lag_1'] = sp500['Close'].shift(1)\n",
    "sp500['Lag_2'] = sp500['Close'].shift(2)\n",
    "sp500['Lag_3'] = sp500['Close'].shift(3)\n",
    "\n",
    "# Calculate Lagged Returns (1, 2, 3 days)\n",
    "sp500['Lag_Return_1'] = sp500['Daily_Return'].shift(1)\n",
    "sp500['Lag_Return_2'] = sp500['Daily_Return'].shift(2)\n",
    "sp500['Lag_Return_3'] = sp500['Daily_Return'].shift(3)\n",
    "\n",
    "# Drop rows with NaN values (caused by shifting and rolling calculations)\n",
    "sp500.dropna(inplace=True)\n",
    "\n",
    "# Create the 'Tomorrow' column\n",
    "sp500['Tomorrow'] = sp500['Close'].shift(-1)\n",
    "\n",
    "# Create the 'Target' column\n",
    "sp500['Target'] = (sp500['Tomorrow'] > sp500['Close']).astype(int)\n",
    "\n",
    "# Drop the last row with NaN value in 'Tomorrow' column\n",
    "sp500.dropna(inplace=True)\n",
    "\n",
    "sp500\n"
   ]
  },
  {
   "cell_type": "markdown",
   "metadata": {},
   "source": [
    "Upon successful loading of dataset, we shall define the features and target variable, following that we will split the data into test and train set, with test being 20% and train being 80%"
   ]
  },
  {
   "cell_type": "code",
   "execution_count": 3,
   "metadata": {},
   "outputs": [],
   "source": [
    "# Define features and target\n",
    "features = sp500[['Daily_Return', 'Rolling_Std', 'Lag_1', 'Lag_2', 'Lag_3', 'Lag_Return_1', 'Lag_Return_2', 'Lag_Return_3']]\n",
    "target = sp500['Target']"
   ]
  },
  {
   "cell_type": "code",
   "execution_count": 4,
   "metadata": {},
   "outputs": [],
   "source": [
    "# Split the data\n",
    "X_train, X_test, y_train, y_test = train_test_split(features, target, test_size=0.2, random_state=42)"
   ]
  },
  {
   "cell_type": "markdown",
   "metadata": {},
   "source": [
    "Now, we will standardise features then verify shape of datasets"
   ]
  },
  {
   "cell_type": "code",
   "execution_count": 5,
   "metadata": {},
   "outputs": [
    {
     "name": "stdout",
     "output_type": "stream",
     "text": [
      "X_train shape: (6946, 8)\n",
      "X_test shape: (1737, 8)\n",
      "y_train shape: (6946,)\n",
      "y_test shape: (1737,)\n"
     ]
    }
   ],
   "source": [
    "# Standardize the features\n",
    "scaler = StandardScaler()\n",
    "X_train_scaled = scaler.fit_transform(X_train)\n",
    "X_test_scaled = scaler.transform(X_test)\n",
    "\n",
    "# Verify the shape of the datasets\n",
    "print(\"X_train shape:\", X_train.shape)\n",
    "print(\"X_test shape:\", X_test.shape)\n",
    "print(\"y_train shape:\", y_train.shape)\n",
    "print(\"y_test shape:\", y_test.shape)"
   ]
  },
  {
   "cell_type": "markdown",
   "metadata": {},
   "source": [
    "## Models\n",
    "\n",
    "---\n",
    "\n",
    "### First model - Logistic Regression - Why Start with Logistic Regression?\n",
    "\n",
    "#### Simplicity and Interpretability\n",
    "Logistic Regression is one of the simplest and most interpretable classification algorithms. It provides clear insights into the relationships between the features and the target variable through the learned coefficients.\n",
    "\n",
    "#### Baseline Performance\n",
    "Starting with Logistic Regression allows us to establish a baseline performance. Since it is a relatively simple model, it helps us understand the basic patterns in the data before moving on to more complex models.\n",
    "\n",
    "#### Efficiency\n",
    "Logistic Regression is computationally efficient and can be trained quickly even on large datasets. This makes it an ideal choice for an initial model, allowing us to quickly iterate and evaluate results.\n",
    "\n",
    "#### Robustness\n",
    "Logistic Regression performs well on linearly separable data and is less prone to overfitting compared to more complex models. It provides a robust starting point for classification tasks.\n",
    "\n",
    "#### Handling Binary Classification\n",
    "Our task is a binary classification problem (predicting whether the stock price will increase or decrease the next day). Logistic Regression is specifically designed for binary classification and provides probability estimates, which can be useful for decision-making.\n",
    "\n",
    "By starting with Logistic Regression, we can gain initial insights into our dataset, establish a baseline, and use these results to guide further model selection and tuning.\n",
    "\n",
    "---\n",
    "\n",
    "We will initialise and train the logistic regression mode, then make predictions on the test set. From these predictions, I will use Area Under Curve (AUC) of ROC and accuracy score, as well as obtain the classification report."
   ]
  },
  {
   "cell_type": "code",
   "execution_count": 6,
   "metadata": {},
   "outputs": [
    {
     "data": {
      "text/html": [
       "<style>#sk-container-id-1 {color: black;}#sk-container-id-1 pre{padding: 0;}#sk-container-id-1 div.sk-toggleable {background-color: white;}#sk-container-id-1 label.sk-toggleable__label {cursor: pointer;display: block;width: 100%;margin-bottom: 0;padding: 0.3em;box-sizing: border-box;text-align: center;}#sk-container-id-1 label.sk-toggleable__label-arrow:before {content: \"▸\";float: left;margin-right: 0.25em;color: #696969;}#sk-container-id-1 label.sk-toggleable__label-arrow:hover:before {color: black;}#sk-container-id-1 div.sk-estimator:hover label.sk-toggleable__label-arrow:before {color: black;}#sk-container-id-1 div.sk-toggleable__content {max-height: 0;max-width: 0;overflow: hidden;text-align: left;background-color: #f0f8ff;}#sk-container-id-1 div.sk-toggleable__content pre {margin: 0.2em;color: black;border-radius: 0.25em;background-color: #f0f8ff;}#sk-container-id-1 input.sk-toggleable__control:checked~div.sk-toggleable__content {max-height: 200px;max-width: 100%;overflow: auto;}#sk-container-id-1 input.sk-toggleable__control:checked~label.sk-toggleable__label-arrow:before {content: \"▾\";}#sk-container-id-1 div.sk-estimator input.sk-toggleable__control:checked~label.sk-toggleable__label {background-color: #d4ebff;}#sk-container-id-1 div.sk-label input.sk-toggleable__control:checked~label.sk-toggleable__label {background-color: #d4ebff;}#sk-container-id-1 input.sk-hidden--visually {border: 0;clip: rect(1px 1px 1px 1px);clip: rect(1px, 1px, 1px, 1px);height: 1px;margin: -1px;overflow: hidden;padding: 0;position: absolute;width: 1px;}#sk-container-id-1 div.sk-estimator {font-family: monospace;background-color: #f0f8ff;border: 1px dotted black;border-radius: 0.25em;box-sizing: border-box;margin-bottom: 0.5em;}#sk-container-id-1 div.sk-estimator:hover {background-color: #d4ebff;}#sk-container-id-1 div.sk-parallel-item::after {content: \"\";width: 100%;border-bottom: 1px solid gray;flex-grow: 1;}#sk-container-id-1 div.sk-label:hover label.sk-toggleable__label {background-color: #d4ebff;}#sk-container-id-1 div.sk-serial::before {content: \"\";position: absolute;border-left: 1px solid gray;box-sizing: border-box;top: 0;bottom: 0;left: 50%;z-index: 0;}#sk-container-id-1 div.sk-serial {display: flex;flex-direction: column;align-items: center;background-color: white;padding-right: 0.2em;padding-left: 0.2em;position: relative;}#sk-container-id-1 div.sk-item {position: relative;z-index: 1;}#sk-container-id-1 div.sk-parallel {display: flex;align-items: stretch;justify-content: center;background-color: white;position: relative;}#sk-container-id-1 div.sk-item::before, #sk-container-id-1 div.sk-parallel-item::before {content: \"\";position: absolute;border-left: 1px solid gray;box-sizing: border-box;top: 0;bottom: 0;left: 50%;z-index: -1;}#sk-container-id-1 div.sk-parallel-item {display: flex;flex-direction: column;z-index: 1;position: relative;background-color: white;}#sk-container-id-1 div.sk-parallel-item:first-child::after {align-self: flex-end;width: 50%;}#sk-container-id-1 div.sk-parallel-item:last-child::after {align-self: flex-start;width: 50%;}#sk-container-id-1 div.sk-parallel-item:only-child::after {width: 0;}#sk-container-id-1 div.sk-dashed-wrapped {border: 1px dashed gray;margin: 0 0.4em 0.5em 0.4em;box-sizing: border-box;padding-bottom: 0.4em;background-color: white;}#sk-container-id-1 div.sk-label label {font-family: monospace;font-weight: bold;display: inline-block;line-height: 1.2em;}#sk-container-id-1 div.sk-label-container {text-align: center;}#sk-container-id-1 div.sk-container {/* jupyter's `normalize.less` sets `[hidden] { display: none; }` but bootstrap.min.css set `[hidden] { display: none !important; }` so we also need the `!important` here to be able to override the default hidden behavior on the sphinx rendered scikit-learn.org. See: https://github.com/scikit-learn/scikit-learn/issues/21755 */display: inline-block !important;position: relative;}#sk-container-id-1 div.sk-text-repr-fallback {display: none;}</style><div id=\"sk-container-id-1\" class=\"sk-top-container\"><div class=\"sk-text-repr-fallback\"><pre>LogisticRegression()</pre><b>In a Jupyter environment, please rerun this cell to show the HTML representation or trust the notebook. <br />On GitHub, the HTML representation is unable to render, please try loading this page with nbviewer.org.</b></div><div class=\"sk-container\" hidden><div class=\"sk-item\"><div class=\"sk-estimator sk-toggleable\"><input class=\"sk-toggleable__control sk-hidden--visually\" id=\"sk-estimator-id-1\" type=\"checkbox\" checked><label for=\"sk-estimator-id-1\" class=\"sk-toggleable__label sk-toggleable__label-arrow\">LogisticRegression</label><div class=\"sk-toggleable__content\"><pre>LogisticRegression()</pre></div></div></div></div></div>"
      ],
      "text/plain": [
       "LogisticRegression()"
      ]
     },
     "execution_count": 6,
     "metadata": {},
     "output_type": "execute_result"
    }
   ],
   "source": [
    "# Initialize and train the Logistic Regression model\n",
    "model = LogisticRegression()\n",
    "model.fit(X_train_scaled, y_train)"
   ]
  },
  {
   "cell_type": "code",
   "execution_count": 7,
   "metadata": {},
   "outputs": [],
   "source": [
    "# Make predictions on the test set\n",
    "y_pred = model.predict(X_test_scaled)"
   ]
  },
  {
   "cell_type": "code",
   "execution_count": 8,
   "metadata": {},
   "outputs": [
    {
     "name": "stdout",
     "output_type": "stream",
     "text": [
      "Accuracy: 0.5198618307426598\n",
      "ROC-AUC: 0.5010026134347545\n",
      "Classification Report:\n",
      "               precision    recall  f1-score   support\n",
      "\n",
      "           0       0.49      0.04      0.07       833\n",
      "           1       0.52      0.96      0.68       904\n",
      "\n",
      "    accuracy                           0.52      1737\n",
      "   macro avg       0.51      0.50      0.37      1737\n",
      "weighted avg       0.51      0.52      0.39      1737\n",
      "\n"
     ]
    }
   ],
   "source": [
    "# Evaluate the model\n",
    "print(\"Accuracy:\", accuracy_score(y_test, y_pred))\n",
    "print(\"ROC-AUC:\", roc_auc_score(y_test, y_pred))\n",
    "print(\"Classification Report:\\n\", classification_report(y_test, y_pred))"
   ]
  },
  {
   "cell_type": "markdown",
   "metadata": {},
   "source": [
    "## Logistic Regression Model Evaluation\n",
    "\n",
    "### Performance Metrics\n",
    "\n",
    "**Accuracy**: 0.52\n",
    "- The accuracy of the model is 51.98%, which indicates that the model is slightly better than random guessing.\n",
    "\n",
    "**ROC-AUC**: 0.50\n",
    "- The ROC-AUC score is 0.50, which suggests that the model has no discriminatory power and is equivalent to random guessing.\n",
    "\n",
    "### Analysis of Classification Report\n",
    "\n",
    "- **Class 0 (Decrease in stock price)**:\n",
    "  - Precision: 0.49\n",
    "  - Recall: 0.04\n",
    "  - F1-Score: 0.07\n",
    "  - The model performs poorly in identifying days where the stock price decreases. The recall is particularly low, indicating that the model fails to capture most of the instances of class 0.\n",
    "\n",
    "- **Class 1 (Increase in stock price)**:\n",
    "  - Precision: 0.52\n",
    "  - Recall: 0.96\n",
    "  - F1-Score: 0.68\n",
    "  - The model performs reasonably well in identifying days where the stock price increases, with a high recall but moderate precision. The high recall indicates that the model correctly identifies most instances of class 1, but the precision indicates that there are still many false positives.\n",
    "\n",
    "- **Overall Performance**:\n",
    "  - The model has a high recall for class 1 but fails to identify class 0 instances effectively. The overall performance metrics suggest that the model is not reliable enough for practical use.\n",
    "\n",
    "### Conclusion\n",
    "\n",
    "The current Logistic Regression model shows a significant imbalance in performance between the two classes, with very poor detection of class 0 (decrease in stock price). Given these results, the model is not good enough for reliable predictions.\n",
    "\n",
    "---\n",
    "\n",
    "### Next Steps\n",
    "\n",
    "##### Following this, I will need a model that can have better performance, using these criterias to choose one:\n",
    "\n",
    "1. **Model Complexity**:\n",
    "   - Use more complex models such as Decision Trees, Random Forests, or Gradient Boosting Machines, which can capture non-linear relationships and interactions between features.\n",
    "\n",
    "2. **Handling Class Imbalance**:\n",
    "   - Implement techniques to handle class imbalance, such as oversampling the minority class (class 0), undersampling the majority class (class 1), or using techniques like SMOTE (Synthetic Minority Over-sampling Technique).\n",
    "\n",
    "3. **Feature Engineering**:\n",
    "   - Explore additional feature engineering to create more informative features that could improve model performance.\n",
    "\n",
    "4. **Hyperparameter Tuning**:\n",
    "   - Perform hyperparameter tuning to optimize the performance of the chosen models.\n",
    "\n",
    "### Chosen Model: Random Forest\n",
    "\n",
    "**Reasoning for choosing this next model**:\n",
    "- **Robustness**: Random Forests are robust to overfitting and can handle non-linear relationships well.\n",
    "- **Feature Importance**: They provide insights into feature importance, which can be useful for further feature engineering.\n",
    "- **Performance**: They generally perform well on classification tasks, especially with imbalanced datasets.\n"
   ]
  },
  {
   "cell_type": "code",
   "execution_count": 9,
   "metadata": {},
   "outputs": [
    {
     "data": {
      "text/html": [
       "<style>#sk-container-id-2 {color: black;}#sk-container-id-2 pre{padding: 0;}#sk-container-id-2 div.sk-toggleable {background-color: white;}#sk-container-id-2 label.sk-toggleable__label {cursor: pointer;display: block;width: 100%;margin-bottom: 0;padding: 0.3em;box-sizing: border-box;text-align: center;}#sk-container-id-2 label.sk-toggleable__label-arrow:before {content: \"▸\";float: left;margin-right: 0.25em;color: #696969;}#sk-container-id-2 label.sk-toggleable__label-arrow:hover:before {color: black;}#sk-container-id-2 div.sk-estimator:hover label.sk-toggleable__label-arrow:before {color: black;}#sk-container-id-2 div.sk-toggleable__content {max-height: 0;max-width: 0;overflow: hidden;text-align: left;background-color: #f0f8ff;}#sk-container-id-2 div.sk-toggleable__content pre {margin: 0.2em;color: black;border-radius: 0.25em;background-color: #f0f8ff;}#sk-container-id-2 input.sk-toggleable__control:checked~div.sk-toggleable__content {max-height: 200px;max-width: 100%;overflow: auto;}#sk-container-id-2 input.sk-toggleable__control:checked~label.sk-toggleable__label-arrow:before {content: \"▾\";}#sk-container-id-2 div.sk-estimator input.sk-toggleable__control:checked~label.sk-toggleable__label {background-color: #d4ebff;}#sk-container-id-2 div.sk-label input.sk-toggleable__control:checked~label.sk-toggleable__label {background-color: #d4ebff;}#sk-container-id-2 input.sk-hidden--visually {border: 0;clip: rect(1px 1px 1px 1px);clip: rect(1px, 1px, 1px, 1px);height: 1px;margin: -1px;overflow: hidden;padding: 0;position: absolute;width: 1px;}#sk-container-id-2 div.sk-estimator {font-family: monospace;background-color: #f0f8ff;border: 1px dotted black;border-radius: 0.25em;box-sizing: border-box;margin-bottom: 0.5em;}#sk-container-id-2 div.sk-estimator:hover {background-color: #d4ebff;}#sk-container-id-2 div.sk-parallel-item::after {content: \"\";width: 100%;border-bottom: 1px solid gray;flex-grow: 1;}#sk-container-id-2 div.sk-label:hover label.sk-toggleable__label {background-color: #d4ebff;}#sk-container-id-2 div.sk-serial::before {content: \"\";position: absolute;border-left: 1px solid gray;box-sizing: border-box;top: 0;bottom: 0;left: 50%;z-index: 0;}#sk-container-id-2 div.sk-serial {display: flex;flex-direction: column;align-items: center;background-color: white;padding-right: 0.2em;padding-left: 0.2em;position: relative;}#sk-container-id-2 div.sk-item {position: relative;z-index: 1;}#sk-container-id-2 div.sk-parallel {display: flex;align-items: stretch;justify-content: center;background-color: white;position: relative;}#sk-container-id-2 div.sk-item::before, #sk-container-id-2 div.sk-parallel-item::before {content: \"\";position: absolute;border-left: 1px solid gray;box-sizing: border-box;top: 0;bottom: 0;left: 50%;z-index: -1;}#sk-container-id-2 div.sk-parallel-item {display: flex;flex-direction: column;z-index: 1;position: relative;background-color: white;}#sk-container-id-2 div.sk-parallel-item:first-child::after {align-self: flex-end;width: 50%;}#sk-container-id-2 div.sk-parallel-item:last-child::after {align-self: flex-start;width: 50%;}#sk-container-id-2 div.sk-parallel-item:only-child::after {width: 0;}#sk-container-id-2 div.sk-dashed-wrapped {border: 1px dashed gray;margin: 0 0.4em 0.5em 0.4em;box-sizing: border-box;padding-bottom: 0.4em;background-color: white;}#sk-container-id-2 div.sk-label label {font-family: monospace;font-weight: bold;display: inline-block;line-height: 1.2em;}#sk-container-id-2 div.sk-label-container {text-align: center;}#sk-container-id-2 div.sk-container {/* jupyter's `normalize.less` sets `[hidden] { display: none; }` but bootstrap.min.css set `[hidden] { display: none !important; }` so we also need the `!important` here to be able to override the default hidden behavior on the sphinx rendered scikit-learn.org. See: https://github.com/scikit-learn/scikit-learn/issues/21755 */display: inline-block !important;position: relative;}#sk-container-id-2 div.sk-text-repr-fallback {display: none;}</style><div id=\"sk-container-id-2\" class=\"sk-top-container\"><div class=\"sk-text-repr-fallback\"><pre>RandomForestClassifier(random_state=42)</pre><b>In a Jupyter environment, please rerun this cell to show the HTML representation or trust the notebook. <br />On GitHub, the HTML representation is unable to render, please try loading this page with nbviewer.org.</b></div><div class=\"sk-container\" hidden><div class=\"sk-item\"><div class=\"sk-estimator sk-toggleable\"><input class=\"sk-toggleable__control sk-hidden--visually\" id=\"sk-estimator-id-2\" type=\"checkbox\" checked><label for=\"sk-estimator-id-2\" class=\"sk-toggleable__label sk-toggleable__label-arrow\">RandomForestClassifier</label><div class=\"sk-toggleable__content\"><pre>RandomForestClassifier(random_state=42)</pre></div></div></div></div></div>"
      ],
      "text/plain": [
       "RandomForestClassifier(random_state=42)"
      ]
     },
     "execution_count": 9,
     "metadata": {},
     "output_type": "execute_result"
    }
   ],
   "source": [
    "# import lib for Random Forest\n",
    "from sklearn.ensemble import RandomForestClassifier\n",
    "\n",
    "# Initialize and train the Random Forest model\n",
    "rf_model = RandomForestClassifier(random_state=42)\n",
    "rf_model.fit(X_train_scaled, y_train)"
   ]
  },
  {
   "cell_type": "code",
   "execution_count": 10,
   "metadata": {},
   "outputs": [],
   "source": [
    "# Make predictions on the test set\n",
    "y_pred_rf = rf_model.predict(X_test_scaled)"
   ]
  },
  {
   "cell_type": "code",
   "execution_count": 11,
   "metadata": {},
   "outputs": [
    {
     "name": "stdout",
     "output_type": "stream",
     "text": [
      "Accuracy: 0.4881980426021877\n",
      "ROC-AUC: 0.4827922319370226\n",
      "Classification Report:\n",
      "               precision    recall  f1-score   support\n",
      "\n",
      "           0       0.46      0.35      0.40       833\n",
      "           1       0.51      0.62      0.56       904\n",
      "\n",
      "    accuracy                           0.49      1737\n",
      "   macro avg       0.48      0.48      0.48      1737\n",
      "weighted avg       0.48      0.49      0.48      1737\n",
      "\n"
     ]
    }
   ],
   "source": [
    "# Evaluate the model\n",
    "print(\"Accuracy:\", accuracy_score(y_test, y_pred_rf))\n",
    "print(\"ROC-AUC:\", roc_auc_score(y_test, y_pred_rf))\n",
    "print(\"Classification Report:\\n\", classification_report(y_test, y_pred_rf))"
   ]
  },
  {
   "cell_type": "markdown",
   "metadata": {},
   "source": [
    "## Random Forest Model Evaluation\n",
    "\n",
    "### Analysis\n",
    "\n",
    "- Both accuracy and ROC_AUC of Random Forest Classifier are slightly lower than those of Logistic Regression.\n",
    "- Same goes for classification report.\n",
    "- Only things that improved in Random Forest Classifier was in identifying the days where the stock price decreases (recall improved from 0.04 to 0.35, F1 score improved from 0.07 to 0.40, which is a huge improvement).\n",
    "\n",
    "### Conclusion and Next Steps\n",
    "\n",
    "The Random Forest model shows a mixed performance. While it improves the detection of class 0 (decrease in stock price), it performs worse in detecting class 1 (increase in stock price) compared to the Logistic Regression model. The overall performance metrics suggest that neither model is sufficiently reliable for practical use.\n",
    "\n",
    "### Next Steps\n",
    "\n",
    "1. **Model Complexity**:\n",
    "   - Explore other models such as Gradient Boosting Machines (GBM) or XGBoost, which might better capture the patterns in the data.\n",
    "\n",
    "2. **Hyperparameter Tuning**:\n",
    "   - Perform hyperparameter tuning for both Logistic Regression and Random Forest models to optimize their performance.\n",
    "\n",
    "3. **Handling Class Imbalance**:\n",
    "   - Implement techniques to handle class imbalance, such as oversampling, undersampling, or using class weights in the model.\n",
    "\n",
    "4. **Feature Engineering**:\n",
    "   - Further explore and create additional features that might help improve model performance.\n",
    "\n",
    "---\n",
    "\n",
    "### Next Model: Gradient Boosting Machines (GBM)\n",
    "\n",
    "**Reasoning**:\n",
    "- **Performance**: GBMs often perform well in a variety of tasks, including classification, and can handle complex relationships in the data.\n",
    "- **Handling Imbalance**: GBMs can handle class imbalance more effectively with techniques like custom loss functions and class weights.\n",
    "- **Fine-Tuning**: They offer many hyperparameters that can be fine-tuned to improve performance."
   ]
  },
  {
   "cell_type": "code",
   "execution_count": 12,
   "metadata": {},
   "outputs": [
    {
     "data": {
      "text/html": [
       "<style>#sk-container-id-3 {color: black;}#sk-container-id-3 pre{padding: 0;}#sk-container-id-3 div.sk-toggleable {background-color: white;}#sk-container-id-3 label.sk-toggleable__label {cursor: pointer;display: block;width: 100%;margin-bottom: 0;padding: 0.3em;box-sizing: border-box;text-align: center;}#sk-container-id-3 label.sk-toggleable__label-arrow:before {content: \"▸\";float: left;margin-right: 0.25em;color: #696969;}#sk-container-id-3 label.sk-toggleable__label-arrow:hover:before {color: black;}#sk-container-id-3 div.sk-estimator:hover label.sk-toggleable__label-arrow:before {color: black;}#sk-container-id-3 div.sk-toggleable__content {max-height: 0;max-width: 0;overflow: hidden;text-align: left;background-color: #f0f8ff;}#sk-container-id-3 div.sk-toggleable__content pre {margin: 0.2em;color: black;border-radius: 0.25em;background-color: #f0f8ff;}#sk-container-id-3 input.sk-toggleable__control:checked~div.sk-toggleable__content {max-height: 200px;max-width: 100%;overflow: auto;}#sk-container-id-3 input.sk-toggleable__control:checked~label.sk-toggleable__label-arrow:before {content: \"▾\";}#sk-container-id-3 div.sk-estimator input.sk-toggleable__control:checked~label.sk-toggleable__label {background-color: #d4ebff;}#sk-container-id-3 div.sk-label input.sk-toggleable__control:checked~label.sk-toggleable__label {background-color: #d4ebff;}#sk-container-id-3 input.sk-hidden--visually {border: 0;clip: rect(1px 1px 1px 1px);clip: rect(1px, 1px, 1px, 1px);height: 1px;margin: -1px;overflow: hidden;padding: 0;position: absolute;width: 1px;}#sk-container-id-3 div.sk-estimator {font-family: monospace;background-color: #f0f8ff;border: 1px dotted black;border-radius: 0.25em;box-sizing: border-box;margin-bottom: 0.5em;}#sk-container-id-3 div.sk-estimator:hover {background-color: #d4ebff;}#sk-container-id-3 div.sk-parallel-item::after {content: \"\";width: 100%;border-bottom: 1px solid gray;flex-grow: 1;}#sk-container-id-3 div.sk-label:hover label.sk-toggleable__label {background-color: #d4ebff;}#sk-container-id-3 div.sk-serial::before {content: \"\";position: absolute;border-left: 1px solid gray;box-sizing: border-box;top: 0;bottom: 0;left: 50%;z-index: 0;}#sk-container-id-3 div.sk-serial {display: flex;flex-direction: column;align-items: center;background-color: white;padding-right: 0.2em;padding-left: 0.2em;position: relative;}#sk-container-id-3 div.sk-item {position: relative;z-index: 1;}#sk-container-id-3 div.sk-parallel {display: flex;align-items: stretch;justify-content: center;background-color: white;position: relative;}#sk-container-id-3 div.sk-item::before, #sk-container-id-3 div.sk-parallel-item::before {content: \"\";position: absolute;border-left: 1px solid gray;box-sizing: border-box;top: 0;bottom: 0;left: 50%;z-index: -1;}#sk-container-id-3 div.sk-parallel-item {display: flex;flex-direction: column;z-index: 1;position: relative;background-color: white;}#sk-container-id-3 div.sk-parallel-item:first-child::after {align-self: flex-end;width: 50%;}#sk-container-id-3 div.sk-parallel-item:last-child::after {align-self: flex-start;width: 50%;}#sk-container-id-3 div.sk-parallel-item:only-child::after {width: 0;}#sk-container-id-3 div.sk-dashed-wrapped {border: 1px dashed gray;margin: 0 0.4em 0.5em 0.4em;box-sizing: border-box;padding-bottom: 0.4em;background-color: white;}#sk-container-id-3 div.sk-label label {font-family: monospace;font-weight: bold;display: inline-block;line-height: 1.2em;}#sk-container-id-3 div.sk-label-container {text-align: center;}#sk-container-id-3 div.sk-container {/* jupyter's `normalize.less` sets `[hidden] { display: none; }` but bootstrap.min.css set `[hidden] { display: none !important; }` so we also need the `!important` here to be able to override the default hidden behavior on the sphinx rendered scikit-learn.org. See: https://github.com/scikit-learn/scikit-learn/issues/21755 */display: inline-block !important;position: relative;}#sk-container-id-3 div.sk-text-repr-fallback {display: none;}</style><div id=\"sk-container-id-3\" class=\"sk-top-container\"><div class=\"sk-text-repr-fallback\"><pre>GradientBoostingClassifier(random_state=42)</pre><b>In a Jupyter environment, please rerun this cell to show the HTML representation or trust the notebook. <br />On GitHub, the HTML representation is unable to render, please try loading this page with nbviewer.org.</b></div><div class=\"sk-container\" hidden><div class=\"sk-item\"><div class=\"sk-estimator sk-toggleable\"><input class=\"sk-toggleable__control sk-hidden--visually\" id=\"sk-estimator-id-3\" type=\"checkbox\" checked><label for=\"sk-estimator-id-3\" class=\"sk-toggleable__label sk-toggleable__label-arrow\">GradientBoostingClassifier</label><div class=\"sk-toggleable__content\"><pre>GradientBoostingClassifier(random_state=42)</pre></div></div></div></div></div>"
      ],
      "text/plain": [
       "GradientBoostingClassifier(random_state=42)"
      ]
     },
     "execution_count": 12,
     "metadata": {},
     "output_type": "execute_result"
    }
   ],
   "source": [
    "#import lib needed\n",
    "from sklearn.ensemble import GradientBoostingClassifier\n",
    "\n",
    "# Initialize and train the Gradient Boosting model\n",
    "gb_model = GradientBoostingClassifier(random_state=42)\n",
    "gb_model.fit(X_train_scaled, y_train)"
   ]
  },
  {
   "cell_type": "code",
   "execution_count": 13,
   "metadata": {},
   "outputs": [],
   "source": [
    "# Make predictions on the test set\n",
    "y_pred_gb = gb_model.predict(X_test_scaled)"
   ]
  },
  {
   "cell_type": "code",
   "execution_count": 14,
   "metadata": {},
   "outputs": [
    {
     "name": "stdout",
     "output_type": "stream",
     "text": [
      "Accuracy: 0.5135290731145653\n",
      "ROC-AUC: 0.4996328177288614\n",
      "Classification Report:\n",
      "               precision    recall  f1-score   support\n",
      "\n",
      "           0       0.48      0.16      0.24       833\n",
      "           1       0.52      0.84      0.64       904\n",
      "\n",
      "    accuracy                           0.51      1737\n",
      "   macro avg       0.50      0.50      0.44      1737\n",
      "weighted avg       0.50      0.51      0.45      1737\n",
      "\n"
     ]
    }
   ],
   "source": [
    "# Evaluate the model\n",
    "print(\"Accuracy:\", accuracy_score(y_test, y_pred_gb))\n",
    "print(\"ROC-AUC:\", roc_auc_score(y_test, y_pred_gb))\n",
    "print(\"Classification Report:\\n\", classification_report(y_test, y_pred_gb))"
   ]
  },
  {
   "cell_type": "markdown",
   "metadata": {},
   "source": [
    "## Gradient Boosting Machine (GBM) Model Evaluation\n",
    "\n",
    "### Performance Metrics\n",
    "\n",
    "**Accuracy**: 0.51\n",
    "- The accuracy of the Gradient Boosting model is 51.35%, which is slightly higher than the Random Forest model's accuracy of 48.82% and similar to the Logistic Regression model's accuracy of 51.98%.\n",
    "\n",
    "**ROC-AUC**: 0.50\n",
    "- The ROC-AUC score is 0.50, which is comparable to the Logistic Regression model's ROC-AUC of 0.50 and higher than the Random Forest model's ROC-AUC of 0.48. This suggests that the Gradient Boosting model has similar discriminatory power as the Logistic Regression model.\n",
    "\n",
    "### Analysis of Classification Report\n",
    "\n",
    "- **Class 0 (Decrease in stock price)**:\n",
    "  - Precision: 0.48\n",
    "  - Recall: 0.16\n",
    "  - F1-Score: 0.24\n",
    "  - The Gradient Boosting model performs better in identifying class 0 instances compared to the Random Forest model (Recall improved from 0.35 to 0.16), but still fails to capture a significant portion of the class 0 instances.\n",
    "\n",
    "- **Class 1 (Increase in stock price)**:\n",
    "  - Precision: 0.52\n",
    "  - Recall: 0.84\n",
    "  - F1-Score: 0.64\n",
    "  - The performance of the Gradient Boosting model for class 1 is better than the Random Forest model (Recall improved from 0.62 to 0.84, F1-Score improved from 0.56 to 0.64) and comparable to the Logistic Regression model.\n",
    "\n",
    "- **Overall Performance**:\n",
    "  - The Gradient Boosting model shows an improvement in overall accuracy and ROC-AUC compared to the Random Forest model. However, it still struggles with detecting class 0 instances effectively. The recall for class 0 remains low, indicating that the model misses many days where the stock price decreases.\n",
    "\n",
    "### Conclusion\n",
    "\n",
    "The Gradient Boosting model shows slight improvements in overall accuracy and ROC-AUC compared to the Random Forest model. However, it still faces challenges in effectively detecting decreases in stock prices (class 0). The performance metrics suggest that further improvements are needed to achieve reliable predictions.\n",
    "\n",
    "### Next Steps\n",
    "\n",
    "1. **Hyperparameter Tuning**:\n",
    "   - Perform hyperparameter tuning for the Gradient Boosting model to optimize its performance. Grid search or random search can be used to find the best hyperparameters.\n",
    "\n",
    "2. **Handling Class Imbalance**:\n",
    "   - Continue to address class imbalance through techniques like oversampling, undersampling, or using class weights.\n",
    "\n",
    "3. **Ensemble Methods**:\n",
    "   - Consider using ensemble methods that combine multiple models to improve performance. Techniques such as stacking or blending can leverage the strengths of different models.\n",
    "\n",
    "4. **Advanced Models**:\n",
    "   - Explore advanced models such as XGBoost or LightGBM, which are variations of gradient boosting and often provide better performance.\n",
    "\n",
    "---\n",
    "\n",
    "## Rationale for Hyperparameter Tuning for Gradient Boosting\n",
    "\n",
    "### Current Model Performance\n",
    "- The Gradient Boosting model shows a slight improvement over the Random Forest model in terms of accuracy (51.35%) and ROC-AUC (0.50). \n",
    "- However, the model still struggles with effectively detecting decreases in stock prices (class 0), with a recall of only 0.16 for class 0.\n",
    "\n",
    "### Why Hyperparameter Tuning?\n",
    "1. **Potential for Improvement**:\n",
    "   - Gradient Boosting models have several hyperparameters that can significantly influence performance, such as the number of estimators, learning rate, and maximum depth of trees.\n",
    "   - Hyperparameter tuning can optimize these settings, potentially leading to substantial performance improvements without changing the underlying model.\n",
    "\n",
    "2. **Efficiency**:\n",
    "   - Conducting hyperparameter tuning on the existing Gradient Boosting model is a more efficient approach than immediately switching to a new model. It allows us to leverage the current model's framework and possibly achieve satisfactory performance with the right parameters.\n",
    "\n",
    "3. **Baseline Understanding**:\n",
    "   - By fine-tuning the Gradient Boosting model, we establish a strong baseline performance. This helps in better understanding the potential and limitations of this model before exploring more complex models.\n",
    "   - If hyperparameter tuning yields significant improvements, it validates the use of Gradient Boosting and may reduce the need to switch to another model.\n",
    "\n",
    "### Why Not Advanced Models (XGBoost, LightGBM) Immediately?\n",
    "1. **Incremental Approach**:\n",
    "   - Adopting an incremental approach allows for systematic evaluation and optimization. Starting with hyperparameter tuning ensures we have exhausted the potential of simpler models before moving to more complex ones.\n",
    "\n",
    "2. **Resource Management**:\n",
    "   - Hyperparameter tuning on the existing model is less resource-intensive than training and tuning entirely new models like XGBoost or LightGBM.\n",
    "   - This step ensures efficient use of computational resources and time.\n",
    "\n",
    "3. **Model Understanding**:\n",
    "   - Gaining a thorough understanding of how well the Gradient Boosting model can perform with optimized parameters provides valuable insights.\n",
    "   - This understanding serves as a foundation for further model selection and tuning, should advanced models be required later.\n",
    "\n",
    "---\n",
    "\n",
    "### Next Steps: Hyperparameter Tuning\n",
    "\n",
    "Given these considerations, we will proceed with hyperparameter tuning for the Gradient Boosting model. This step aims to optimize the current model's performance and determine if it can meet our predictive needs with the right parameter settings. If the tuned Gradient Boosting model still fails to provide satisfactory results, we will then consider exploring more advanced models like XGBoost or LightGBM.\n",
    "\n"
   ]
  },
  {
   "cell_type": "code",
   "execution_count": 15,
   "metadata": {},
   "outputs": [],
   "source": [
    "from sklearn.model_selection import GridSearchCV\n",
    "\n",
    "# Define the parameter grid\n",
    "param_grid = {\n",
    "    'n_estimators': [100, 200, 300],\n",
    "    'learning_rate': [0.01, 0.1, 0.2],\n",
    "    'max_depth': [3, 4, 5]\n",
    "}"
   ]
  },
  {
   "cell_type": "code",
   "execution_count": 16,
   "metadata": {},
   "outputs": [],
   "source": [
    "# Initialize the GridSearchCV object\n",
    "grid_search = GridSearchCV(estimator=GradientBoostingClassifier(random_state=42),\n",
    "                           param_grid=param_grid, \n",
    "                           cv=3,                  # 3-fold cross-validation\n",
    "                           scoring='roc_auc',     # Evaluate performance using ROC-AUC\n",
    "                           n_jobs=-1)             # Use all available cores to speed up the process"
   ]
  },
  {
   "cell_type": "code",
   "execution_count": 17,
   "metadata": {},
   "outputs": [
    {
     "data": {
      "text/html": [
       "<style>#sk-container-id-4 {color: black;}#sk-container-id-4 pre{padding: 0;}#sk-container-id-4 div.sk-toggleable {background-color: white;}#sk-container-id-4 label.sk-toggleable__label {cursor: pointer;display: block;width: 100%;margin-bottom: 0;padding: 0.3em;box-sizing: border-box;text-align: center;}#sk-container-id-4 label.sk-toggleable__label-arrow:before {content: \"▸\";float: left;margin-right: 0.25em;color: #696969;}#sk-container-id-4 label.sk-toggleable__label-arrow:hover:before {color: black;}#sk-container-id-4 div.sk-estimator:hover label.sk-toggleable__label-arrow:before {color: black;}#sk-container-id-4 div.sk-toggleable__content {max-height: 0;max-width: 0;overflow: hidden;text-align: left;background-color: #f0f8ff;}#sk-container-id-4 div.sk-toggleable__content pre {margin: 0.2em;color: black;border-radius: 0.25em;background-color: #f0f8ff;}#sk-container-id-4 input.sk-toggleable__control:checked~div.sk-toggleable__content {max-height: 200px;max-width: 100%;overflow: auto;}#sk-container-id-4 input.sk-toggleable__control:checked~label.sk-toggleable__label-arrow:before {content: \"▾\";}#sk-container-id-4 div.sk-estimator input.sk-toggleable__control:checked~label.sk-toggleable__label {background-color: #d4ebff;}#sk-container-id-4 div.sk-label input.sk-toggleable__control:checked~label.sk-toggleable__label {background-color: #d4ebff;}#sk-container-id-4 input.sk-hidden--visually {border: 0;clip: rect(1px 1px 1px 1px);clip: rect(1px, 1px, 1px, 1px);height: 1px;margin: -1px;overflow: hidden;padding: 0;position: absolute;width: 1px;}#sk-container-id-4 div.sk-estimator {font-family: monospace;background-color: #f0f8ff;border: 1px dotted black;border-radius: 0.25em;box-sizing: border-box;margin-bottom: 0.5em;}#sk-container-id-4 div.sk-estimator:hover {background-color: #d4ebff;}#sk-container-id-4 div.sk-parallel-item::after {content: \"\";width: 100%;border-bottom: 1px solid gray;flex-grow: 1;}#sk-container-id-4 div.sk-label:hover label.sk-toggleable__label {background-color: #d4ebff;}#sk-container-id-4 div.sk-serial::before {content: \"\";position: absolute;border-left: 1px solid gray;box-sizing: border-box;top: 0;bottom: 0;left: 50%;z-index: 0;}#sk-container-id-4 div.sk-serial {display: flex;flex-direction: column;align-items: center;background-color: white;padding-right: 0.2em;padding-left: 0.2em;position: relative;}#sk-container-id-4 div.sk-item {position: relative;z-index: 1;}#sk-container-id-4 div.sk-parallel {display: flex;align-items: stretch;justify-content: center;background-color: white;position: relative;}#sk-container-id-4 div.sk-item::before, #sk-container-id-4 div.sk-parallel-item::before {content: \"\";position: absolute;border-left: 1px solid gray;box-sizing: border-box;top: 0;bottom: 0;left: 50%;z-index: -1;}#sk-container-id-4 div.sk-parallel-item {display: flex;flex-direction: column;z-index: 1;position: relative;background-color: white;}#sk-container-id-4 div.sk-parallel-item:first-child::after {align-self: flex-end;width: 50%;}#sk-container-id-4 div.sk-parallel-item:last-child::after {align-self: flex-start;width: 50%;}#sk-container-id-4 div.sk-parallel-item:only-child::after {width: 0;}#sk-container-id-4 div.sk-dashed-wrapped {border: 1px dashed gray;margin: 0 0.4em 0.5em 0.4em;box-sizing: border-box;padding-bottom: 0.4em;background-color: white;}#sk-container-id-4 div.sk-label label {font-family: monospace;font-weight: bold;display: inline-block;line-height: 1.2em;}#sk-container-id-4 div.sk-label-container {text-align: center;}#sk-container-id-4 div.sk-container {/* jupyter's `normalize.less` sets `[hidden] { display: none; }` but bootstrap.min.css set `[hidden] { display: none !important; }` so we also need the `!important` here to be able to override the default hidden behavior on the sphinx rendered scikit-learn.org. See: https://github.com/scikit-learn/scikit-learn/issues/21755 */display: inline-block !important;position: relative;}#sk-container-id-4 div.sk-text-repr-fallback {display: none;}</style><div id=\"sk-container-id-4\" class=\"sk-top-container\"><div class=\"sk-text-repr-fallback\"><pre>GridSearchCV(cv=3, estimator=GradientBoostingClassifier(random_state=42),\n",
       "             n_jobs=-1,\n",
       "             param_grid={&#x27;learning_rate&#x27;: [0.01, 0.1, 0.2],\n",
       "                         &#x27;max_depth&#x27;: [3, 4, 5],\n",
       "                         &#x27;n_estimators&#x27;: [100, 200, 300]},\n",
       "             scoring=&#x27;roc_auc&#x27;)</pre><b>In a Jupyter environment, please rerun this cell to show the HTML representation or trust the notebook. <br />On GitHub, the HTML representation is unable to render, please try loading this page with nbviewer.org.</b></div><div class=\"sk-container\" hidden><div class=\"sk-item sk-dashed-wrapped\"><div class=\"sk-label-container\"><div class=\"sk-label sk-toggleable\"><input class=\"sk-toggleable__control sk-hidden--visually\" id=\"sk-estimator-id-4\" type=\"checkbox\" ><label for=\"sk-estimator-id-4\" class=\"sk-toggleable__label sk-toggleable__label-arrow\">GridSearchCV</label><div class=\"sk-toggleable__content\"><pre>GridSearchCV(cv=3, estimator=GradientBoostingClassifier(random_state=42),\n",
       "             n_jobs=-1,\n",
       "             param_grid={&#x27;learning_rate&#x27;: [0.01, 0.1, 0.2],\n",
       "                         &#x27;max_depth&#x27;: [3, 4, 5],\n",
       "                         &#x27;n_estimators&#x27;: [100, 200, 300]},\n",
       "             scoring=&#x27;roc_auc&#x27;)</pre></div></div></div><div class=\"sk-parallel\"><div class=\"sk-parallel-item\"><div class=\"sk-item\"><div class=\"sk-label-container\"><div class=\"sk-label sk-toggleable\"><input class=\"sk-toggleable__control sk-hidden--visually\" id=\"sk-estimator-id-5\" type=\"checkbox\" ><label for=\"sk-estimator-id-5\" class=\"sk-toggleable__label sk-toggleable__label-arrow\">estimator: GradientBoostingClassifier</label><div class=\"sk-toggleable__content\"><pre>GradientBoostingClassifier(random_state=42)</pre></div></div></div><div class=\"sk-serial\"><div class=\"sk-item\"><div class=\"sk-estimator sk-toggleable\"><input class=\"sk-toggleable__control sk-hidden--visually\" id=\"sk-estimator-id-6\" type=\"checkbox\" ><label for=\"sk-estimator-id-6\" class=\"sk-toggleable__label sk-toggleable__label-arrow\">GradientBoostingClassifier</label><div class=\"sk-toggleable__content\"><pre>GradientBoostingClassifier(random_state=42)</pre></div></div></div></div></div></div></div></div></div></div>"
      ],
      "text/plain": [
       "GridSearchCV(cv=3, estimator=GradientBoostingClassifier(random_state=42),\n",
       "             n_jobs=-1,\n",
       "             param_grid={'learning_rate': [0.01, 0.1, 0.2],\n",
       "                         'max_depth': [3, 4, 5],\n",
       "                         'n_estimators': [100, 200, 300]},\n",
       "             scoring='roc_auc')"
      ]
     },
     "execution_count": 17,
     "metadata": {},
     "output_type": "execute_result"
    }
   ],
   "source": [
    "# Fit the model (train with all combinations)\n",
    "grid_search.fit(X_train_scaled, y_train)"
   ]
  },
  {
   "cell_type": "code",
   "execution_count": 18,
   "metadata": {},
   "outputs": [],
   "source": [
    "# Get the best model\n",
    "best_gb_model = grid_search.best_estimator_"
   ]
  },
  {
   "cell_type": "code",
   "execution_count": 19,
   "metadata": {},
   "outputs": [],
   "source": [
    "# Make predictions on the test set\n",
    "y_pred_best_gb = best_gb_model.predict(X_test_scaled)"
   ]
  },
  {
   "cell_type": "code",
   "execution_count": 20,
   "metadata": {},
   "outputs": [
    {
     "name": "stdout",
     "output_type": "stream",
     "text": [
      "Best Parameters: {'learning_rate': 0.2, 'max_depth': 5, 'n_estimators': 100}\n",
      "Accuracy: 0.5169833045480714\n",
      "ROC-AUC: 0.5102113854391315\n",
      "Classification Report:\n",
      "               precision    recall  f1-score   support\n",
      "\n",
      "           0       0.49      0.34      0.41       833\n",
      "           1       0.53      0.68      0.59       904\n",
      "\n",
      "    accuracy                           0.52      1737\n",
      "   macro avg       0.51      0.51      0.50      1737\n",
      "weighted avg       0.51      0.52      0.50      1737\n",
      "\n"
     ]
    }
   ],
   "source": [
    "# Evaluate the model\n",
    "print(\"Best Parameters:\", grid_search.best_params_)\n",
    "print(\"Accuracy:\", accuracy_score(y_test, y_pred_best_gb))\n",
    "print(\"ROC-AUC:\", roc_auc_score(y_test, y_pred_best_gb))\n",
    "print(\"Classification Report:\\n\", classification_report(y_test, y_pred_best_gb))"
   ]
  },
  {
   "cell_type": "markdown",
   "metadata": {},
   "source": [
    "## GridSearchCV Results for Gradient Boosting\n",
    "\n",
    "**Best Parameters**: `{'learning_rate': 0.2, 'max_depth': 5, 'n_estimators': 100}`\n",
    "- These are the optimal hyperparameters found by GridSearchCV:\n",
    "  - **learning_rate**: 0.2\n",
    "  - **max_depth**: 5\n",
    "  - **n_estimators**: 100\n",
    "\n",
    "### Performance Metrics\n",
    "\n",
    "**Accuracy**: 0.52\n",
    "- The accuracy of the tuned Gradient Boosting model is 51.70%, which is a slight improvement over the untuned Gradient Boosting model (51.35%).\n",
    "\n",
    "**ROC-AUC**: 0.51\n",
    "- The ROC-AUC score is 0.51, which is a slight improvement over the untuned Gradient Boosting model (0.50).\n",
    "\n",
    "### Analysis of classification report\n",
    "\n",
    "- **Class 0 (Decrease in stock price)**:\n",
    "  - Precision: 0.49\n",
    "  - Recall: 0.34\n",
    "  - F1-Score: 0.41\n",
    "  - The recall for class 0 has improved from 0.16 (untuned) to 0.34 (tuned), indicating better detection of days where the stock price decreases.\n",
    "\n",
    "- **Class 1 (Increase in stock price)**:\n",
    "  - Precision: 0.53\n",
    "  - Recall: 0.68\n",
    "  - F1-Score: 0.59\n",
    "  - The performance for class 1 is slightly lower compared to the untuned model (Recall decreased from 0.84 to 0.68).\n",
    "\n",
    "- **Overall Performance**:\n",
    "  - The overall accuracy and ROC-AUC scores have improved slightly. The macro average and weighted average F1-scores are now 0.50 and 0.50, respectively, suggesting a more balanced performance between the two classes.\n",
    "\n",
    "### Conclusion\n",
    "\n",
    "The hyperparameter tuning for the Gradient Boosting model has resulted in slight improvements in accuracy and ROC-AUC. The model's ability to detect decreases in stock prices (class 0) has improved significantly, as evidenced by the increase in recall from 0.16 to 0.34. However, the performance for class 1 (increase in stock price) has slightly decreased. \n",
    "\n",
    "Overall, the tuned Gradient Boosting model shows better balance between the classes and a slight overall performance improvement. Further enhancements could involve additional feature engineering, exploring advanced models like XGBoost or LightGBM, or implementing ensemble methods.\n"
   ]
  },
  {
   "cell_type": "markdown",
   "metadata": {},
   "source": [
    "# Final Model Selection: Gradient Boosting Machine (GBM)\n",
    "\n",
    "### Conclusion\n",
    "After evaluating various models and performing hyperparameter tuning, we have chosen the Gradient Boosting Machine (GBM) as our final model. The tuned GBM model shows slight improvements in accuracy, ROC-AUC, and recall for class 0, resulting in a more balanced performance between the two classes.\n",
    "\n",
    "### Reasons for Choosing GBM\n",
    "1. **Improved Performance**: Hyperparameter tuning has led to better overall performance metrics.\n",
    "2. **Balanced Performance**: The model now demonstrates a more balanced detection of both classes.\n",
    "3. **Efficiency**: GBM provides satisfactory results without the need for switching to more complex models at this stage.\n",
    "\n",
    "### Next Steps\n",
    "1. **Document the Model**: Record the hyperparameters, performance metrics, and any relevant observations.\n",
    "2. **Feature Importance**: Analyze and document the importance of each feature in the model.\n",
    "3. **Model Deployment**: Prepare the model for deployment or application in the intended use case.\n",
    "\n",
    "### Optional Future Work\n",
    "If further improvements are desired, we can consider exploring advanced models like XGBoost or LightGBM, implementing ensemble methods, or conducting additional hyperparameter tuning, but for this project I will stick to tuned GBM.\n",
    "\n",
    "By choosing GBM, we ensure a robust and efficient model while keeping the door open for future enhancements.\n"
   ]
  },
  {
   "cell_type": "code",
   "execution_count": 21,
   "metadata": {},
   "outputs": [
    {
     "data": {
      "image/png": "[encoded data removed]",
      "text/plain": [
       "<Figure size 1000x600 with 1 Axes>"
      ]
     },
     "metadata": {},
     "output_type": "display_data"
    }
   ],
   "source": [
    "# Get feature importances\n",
    "feature_importances = best_gb_model.feature_importances_\n",
    "features = X_train.columns\n",
    "\n",
    "# Create a DataFrame for better visualization\n",
    "importance_df = pd.DataFrame({\n",
    "    'Feature': features,\n",
    "    'Importance': feature_importances\n",
    "}).sort_values(by='Importance', ascending=False)\n",
    "\n",
    "# Plot feature importances\n",
    "plt.figure(figsize=(10, 6))\n",
    "plt.barh(importance_df['Feature'], importance_df['Importance'])\n",
    "plt.xlabel('Importance')\n",
    "plt.title('Feature Importance in Gradient Boosting Model')\n",
    "plt.gca().invert_yaxis()\n",
    "plt.show()"
   ]
  },
  {
   "cell_type": "markdown",
   "metadata": {},
   "source": [
    "## Feature Importance Analysis\n",
    "\n",
    "The feature importance analysis helps us understand which features contribute the most to the model's predictions. The plot below shows the importance of each feature in the Gradient Boosting model.\n",
    "\n",
    "### Key Findings\n",
    "- **`Lag_Return_3`**: The most important feature in predicting the target variable. This suggests that the return three days ago has a significant impact on the prediction.\n",
    "- **`Rolling_Std`**: The second most important feature, indicating that the 30-day rolling standard deviation is crucial for the model. This measure of volatility plays a key role in the prediction.\n",
    "- **`Lag_Return_2`**: Another important feature, highlighting that the return two days ago also significantly influences the model's predictions.\n",
    "- **`Daily_Return`**: The daily return is also a major factor, emphasizing the importance of immediate past performance in the prediction.\n",
    "- **`Lag_Return_1`**: The return one day ago is important but less so compared to the returns from two and three days ago.\n",
    "- **`Lag_3`, `Lag_2`, `Lag_1`**: The actual lagged prices for the past three days are less important than the lagged returns but still contribute to the model's predictions.\n",
    "\n",
    "### Interpretation\n",
    "- The model places more importance on lagged returns and volatility measures rather than just the raw lagged prices. This indicates that how the stock price changes over time (returns) and its volatility are more predictive of future movements than the absolute price levels of the past few days.\n",
    "\n",
    "### Next Steps\n",
    "\n",
    "1. **Interpret the Results**: Use the feature importance analysis to interpret the model's behavior and understand which features drive predictions.\n",
    "2. **Refine Features**: Consider refining or engineering additional features based on this analysis to further improve model performance.\n",
    "3. **Document Findings**: Record these findings in your documentation to provide insights into the model's decision-making process.\n",
    "\n",
    "By analyzing feature importance, we gain valuable insights into the factors driving our model's predictions, which can guide further improvements and ensure more informed decision-making.\n"
   ]
  },
  {
   "cell_type": "markdown",
   "metadata": {},
   "source": [
    "### Interpretation of the Model's Behavior\n",
    "\n",
    "Understanding which features drive the model's predictions can provide insights into how the model operates and why it makes certain predictions. Here are some points to consider for interpreting the model's behavior based on the feature importance analysis:\n",
    "\n",
    "##### Lagged Returns:\n",
    "`Lag_Return_3`, `Lag_Return_2`, `Lag_Return_1`: These features represent the returns from the previous three days. Their high importance suggests that the model heavily relies on recent past performance to predict future stock movements. The returns from three days ago have the highest importance, indicating that more distant past performance might provide more stable signals compared to immediate past performance.\n",
    "\n",
    "##### Volatility:\n",
    "`Rolling_Std`: The 30-day rolling standard deviation measures the volatility of the stock price. Its high importance indicates that the model considers periods of high volatility as significant indicators for predicting future price movements. This makes sense as high volatility often precedes significant price changes.\n",
    "\n",
    "##### Daily Return:\n",
    "Daily_Return: This feature captures the return from the previous day. Its significance underscores the model's focus on immediate past performance. It shows that daily market sentiment and movements have a strong impact on predictions.\n",
    "\n",
    "##### Lagged Prices:\n",
    "`Lag_3`, `Lag_2`, `Lag_1`: While these features are less important than lagged returns and volatility, they still contribute to the model. This suggests that absolute price levels from the past few days provide some useful information, albeit not as much as the returns."
   ]
  },
  {
   "cell_type": "markdown",
   "metadata": {},
   "source": [
    "#### Now, we will move on to refining features to improve the model performance."
   ]
  },
  {
   "cell_type": "code",
   "execution_count": 23,
   "metadata": {},
   "outputs": [],
   "source": [
    "# Creating lagged features for the past 4 to 7 days\n",
    "for i in range(4, 8):\n",
    "    sp500[f'Lag_{i}'] = sp500['Close'].shift(i)"
   ]
  },
  {
   "cell_type": "code",
   "execution_count": 24,
   "metadata": {},
   "outputs": [],
   "source": [
    "# Creating rolling mean and rolling median features\n",
    "sp500['Rolling_Mean'] = sp500['Close'].rolling(window=30).mean()\n",
    "sp500['Rolling_Median'] = sp500['Close'].rolling(window=30).median()"
   ]
  },
  {
   "cell_type": "code",
   "execution_count": 25,
   "metadata": {},
   "outputs": [],
   "source": [
    "# Creating technical indicators\n",
    "sp500['MA50'] = sp500['Close'].rolling(window=50).mean()\n",
    "sp500['MA200'] = sp500['Close'].rolling(window=200).mean()\n",
    "\n",
    "# Relative Strength Index (RSI)\n",
    "delta = sp500['Close'].diff()\n",
    "gain = (delta.where(delta > 0, 0)).rolling(window=14).mean()\n",
    "loss = (-delta.where(delta < 0, 0)).rolling(window=14).mean()\n",
    "rs = gain / loss\n",
    "sp500['RSI'] = 100 - (100 / (1 + rs))\n",
    "\n",
    "# Moving Average Convergence Divergence (MACD)\n",
    "ema12 = sp500['Close'].ewm(span=12, adjust=False).mean()\n",
    "ema26 = sp500['Close'].ewm(span=26, adjust=False).mean()\n",
    "sp500['MACD'] = ema12 - ema26"
   ]
  },
  {
   "cell_type": "markdown",
   "metadata": {},
   "source": [
    "upon engineering these new features, next step is to retrain the GBM model, hyperparameter tune it, and re evaluate performance."
   ]
  },
  {
   "cell_type": "code",
   "execution_count": 26,
   "metadata": {},
   "outputs": [],
   "source": [
    "# Drop rows with NaN values created by lagging and rolling calculations\n",
    "sp500 = sp500.dropna()\n",
    "\n",
    "# Define the feature set and target variable\n",
    "features = ['Lag_1', 'Lag_2', 'Lag_3', 'Lag_4', 'Lag_5', 'Lag_6', 'Lag_7', \n",
    "            'Lag_Return_1', 'Lag_Return_2', 'Lag_Return_3', 'Daily_Return', \n",
    "            'Rolling_Std', 'Rolling_Mean', 'Rolling_Median', 'MA50', 'MA200', 'RSI', 'MACD']\n",
    "X = sp500[features]\n",
    "y = sp500['Target']\n",
    "\n",
    "# Split the data\n",
    "from sklearn.model_selection import train_test_split\n",
    "X_train, X_test, y_train, y_test = train_test_split(X, y, test_size=0.2, random_state=42)\n"
   ]
  },
  {
   "cell_type": "code",
   "execution_count": 27,
   "metadata": {},
   "outputs": [],
   "source": [
    "# Initialize the scaler\n",
    "scaler = StandardScaler()\n",
    "\n",
    "# Fit and transform the training data\n",
    "X_train_scaled = scaler.fit_transform(X_train)\n",
    "\n",
    "# Transform the test data\n",
    "X_test_scaled = scaler.transform(X_test)"
   ]
  },
  {
   "cell_type": "code",
   "execution_count": 28,
   "metadata": {},
   "outputs": [
    {
     "name": "stdout",
     "output_type": "stream",
     "text": [
      "Best Parameters: {'learning_rate': 0.1, 'max_depth': 5, 'n_estimators': 200}\n",
      "Accuracy: 0.516205067766647\n",
      "ROC-AUC: 0.49749947876458755\n",
      "Classification Report:\n",
      "               precision    recall  f1-score   support\n",
      "\n",
      "           0       0.44      0.34      0.38       748\n",
      "           1       0.56      0.66      0.60       949\n",
      "\n",
      "    accuracy                           0.52      1697\n",
      "   macro avg       0.50      0.50      0.49      1697\n",
      "weighted avg       0.50      0.52      0.51      1697\n",
      "\n"
     ]
    }
   ],
   "source": [
    "# Define the parameter grid\n",
    "param_grid = {\n",
    "    'n_estimators': [100, 200, 300],\n",
    "    'learning_rate': [0.01, 0.1, 0.2],\n",
    "    'max_depth': [3, 4, 5]\n",
    "}\n",
    "\n",
    "# Initialize the GridSearchCV object\n",
    "grid_search = GridSearchCV(estimator=GradientBoostingClassifier(random_state=42), param_grid=param_grid, cv=3, scoring='roc_auc', n_jobs=-1)\n",
    "\n",
    "# Fit the model\n",
    "grid_search.fit(X_train_scaled, y_train)\n",
    "\n",
    "# Get the best model\n",
    "best_gb_model = grid_search.best_estimator_\n",
    "\n",
    "# Make predictions on the test set\n",
    "y_pred_best_gb = best_gb_model.predict(X_test_scaled)\n",
    "\n",
    "# Evaluate the model\n",
    "print(\"Best Parameters:\", grid_search.best_params_)\n",
    "print(\"Accuracy:\", accuracy_score(y_test, y_pred_best_gb))\n",
    "print(\"ROC-AUC:\", roc_auc_score(y_test, y_pred_best_gb))\n",
    "print(\"Classification Report:\\n\", classification_report(y_test, y_pred_best_gb))\n"
   ]
  },
  {
   "cell_type": "markdown",
   "metadata": {},
   "source": [
    "## Hyperparameter Tuning Results for Gradient Boosting Machine (GBM)\n",
    "\n",
    "### Best Parameters\n",
    "- **learning_rate**: 0.1\n",
    "- **max_depth**: 5\n",
    "- **n_estimators**: 200\n",
    "\n",
    "### Performance Metrics\n",
    "\n",
    "**Accuracy**: 0.52\n",
    "- The accuracy of the tuned Gradient Boosting model is 51.62%, which is slightly higher than the initial GBM model.\n",
    "\n",
    "**ROC-AUC**: 0.50\n",
    "- The ROC-AUC score is 0.50, which is similar to the initial GBM model.\n",
    "\n",
    "### Analysis of classification report\n",
    "\n",
    "- **Class 0 (Decrease in stock price)**:\n",
    "  - Precision: 0.44\n",
    "  - Recall: 0.34\n",
    "  - F1-Score: 0.38\n",
    "  - The recall for class 0 has slightly improved compared to previous models, indicating better detection of days where the stock price decreases.\n",
    "\n",
    "- **Class 1 (Increase in stock price)**:\n",
    "  - Precision: 0.56\n",
    "  - Recall: 0.66\n",
    "  - F1-Score: 0.60\n",
    "  - The performance for class 1 shows a balanced precision and recall, which is slightly improved over the previous models.\n",
    "\n",
    "- **Overall Performance**:\n",
    "  - The overall accuracy and ROC-AUC scores have improved slightly. The macro average and weighted average F1-scores are now 0.49 and 0.51, respectively, indicating a more balanced performance between the two classes.\n",
    "\n",
    "### Conclusion\n",
    "\n",
    "The hyperparameter tuning for the Gradient Boosting model has resulted in slight improvements in accuracy, ROC-AUC, and recall for class 0. The model's ability to detect decreases in stock prices (class 0) has improved, and it continues to perform well for class 1 (increase in stock price)."
   ]
  },
  {
   "cell_type": "markdown",
   "metadata": {},
   "source": [
    "## Feature Importance Analysis\n",
    "\n",
    "The feature importance analysis helps us understand which features contribute the most to the model's predictions. The plot below shows the importance of each feature in the Gradient Boosting model.\n",
    "\n",
    "### Key Findings\n",
    "- **`Lag_Return_3`**: The most important feature in predicting the target variable. This suggests that the return three days ago has a significant impact on the prediction.\n",
    "- **`Rolling_Std`**: The second most important feature, indicating that the 30-day rolling standard deviation is crucial for the model. This measure of volatility plays a key role in the prediction.\n",
    "- **`Lag_Return_2`**: Another important feature, highlighting that the return two days ago also significantly influences the model's predictions.\n",
    "- **`Daily_Return`**: The daily return is also a major factor, emphasizing the importance of immediate past performance in the prediction.\n",
    "- **`Lag_Return_1`**: The return one day ago is important but less so compared to the returns from two and three days ago.\n",
    "- **`Lag_3`, `Lag_2`, `Lag_1`**: The actual lagged prices for the past three days are less important than the lagged returns but still contribute to the model's predictions.\n",
    "\n",
    "### Interpretation\n",
    "- The model places more importance on lagged returns and volatility measures rather than just the raw lagged prices. This indicates that how the stock price changes over time (returns) and its volatility are more predictive of future movements than the absolute price levels of the past few days."
   ]
  },
  {
   "cell_type": "markdown",
   "metadata": {},
   "source": [
    "We shall now prepare model for deployment"
   ]
  },
  {
   "cell_type": "code",
   "execution_count": 29,
   "metadata": {},
   "outputs": [
    {
     "data": {
      "text/plain": [
       "['final_gbm_model.pkl']"
      ]
     },
     "execution_count": 29,
     "metadata": {},
     "output_type": "execute_result"
    }
   ],
   "source": [
    "import joblib\n",
    "\n",
    "# Save the model\n",
    "joblib.dump(best_gb_model, 'final_gbm_model.pkl')"
   ]
  },
  {
   "cell_type": "markdown",
   "metadata": {},
   "source": [
    "## Model Deployment\n",
    "\n",
    "The final Gradient Boosting Machine (GBM) model has been trained and tuned. To see a simple sample of how to use this model, I will create a new file `deployment.ipynb` to show a simple implementation"
   ]
  }
 ],
 "metadata": {
  "kernelspec": {
   "display_name": "stockanalysis",
   "language": "python",
   "name": "python3"
  },
  "language_info": {
   "codemirror_mode": {
    "name": "ipython",
    "version": 3
   },
   "file_extension": ".py",
   "mimetype": "text/x-python",
   "name": "python",
   "nbconvert_exporter": "python",
   "pygments_lexer": "ipython3",
   "version": "3.8.19"
  }
 },
 "nbformat": 4,
 "nbformat_minor": 2
}
