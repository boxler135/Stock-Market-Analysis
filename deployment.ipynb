{
 "cells": [
  {
   "cell_type": "markdown",
   "metadata": {},
   "source": [
    "In this file, I will be showcasing a simple implementation of how to use the model earlier trained in model.ipynb"
   ]
  },
  {
   "cell_type": "code",
   "execution_count": 1,
   "metadata": {},
   "outputs": [],
   "source": [
    "import joblib\n",
    "import pandas as pd\n",
    "import yfinance as yf\n",
    "from sklearn.preprocessing import StandardScaler\n",
    "import numpy as np\n",
    "import datetime"
   ]
  },
  {
   "cell_type": "code",
   "execution_count": 3,
   "metadata": {},
   "outputs": [],
   "source": [
    "# Load the model\n",
    "model = joblib.load('final_gbm_model.pkl')"
   ]
  },
  {
   "cell_type": "code",
   "execution_count": 5,
   "metadata": {},
   "outputs": [
    {
     "name": "stderr",
     "output_type": "stream",
     "text": [
      "[*********************100%%**********************]  1 of 1 completed\n"
     ]
    }
   ],
   "source": [
    "# Fetch LIVE S&P 500 data\n",
    "ticker = \"^GSPC\"\n",
    "data = yf.download(ticker, start=\"2023-01-01\", end=datetime.date.today().strftime(\"%Y-%m-%d\"))"
   ]
  },
  {
   "cell_type": "code",
   "execution_count": 6,
   "metadata": {},
   "outputs": [],
   "source": [
    "# Calculate necessary features\n",
    "data['Lag_1'] = data['Close'].shift(1)\n",
    "data['Lag_2'] = data['Close'].shift(2)\n",
    "data['Lag_3'] = data['Close'].shift(3)\n",
    "data['Lag_4'] = data['Close'].shift(4)\n",
    "data['Lag_5'] = data['Close'].shift(5)\n",
    "data['Lag_6'] = data['Close'].shift(6)\n",
    "data['Lag_7'] = data['Close'].shift(7)\n",
    "data['Daily_Return'] = data['Close'].pct_change()\n",
    "data['Lag_Return_1'] = data['Daily_Return'].shift(1)\n",
    "data['Lag_Return_2'] = data['Daily_Return'].shift(2)\n",
    "data['Lag_Return_3'] = data['Daily_Return'].shift(3)\n",
    "data['Rolling_Std'] = data['Close'].rolling(window=30).std()\n",
    "data['Rolling_Mean'] = data['Close'].rolling(window=30).mean()\n",
    "data['Rolling_Median'] = data['Close'].rolling(window=30).median()\n",
    "data['MA50'] = data['Close'].rolling(window=50).mean()\n",
    "data['MA200'] = data['Close'].rolling(window=200).mean()\n",
    "\n",
    "delta = data['Close'].diff()\n",
    "gain = (delta.where(delta > 0, 0)).rolling(window=14).mean()\n",
    "loss = (-delta.where(delta < 0, 0)).rolling(window=14).mean()\n",
    "rs = gain / loss\n",
    "data['RSI'] = 100 - (100 / (1 + rs))\n",
    "\n",
    "ema12 = data['Close'].ewm(span=12, adjust=False).mean()\n",
    "ema26 = data['Close'].ewm(span=26, adjust=False).mean()\n",
    "data['MACD'] = ema12 - ema26\n",
    "\n",
    "# Drop rows with NaN values created by lagging and rolling calculations\n",
    "data = data.dropna()\n",
    "\n",
    "# Define the feature set\n",
    "features = ['Lag_1', 'Lag_2', 'Lag_3', 'Lag_4', 'Lag_5', 'Lag_6', 'Lag_7', \n",
    "            'Lag_Return_1', 'Lag_Return_2', 'Lag_Return_3', 'Daily_Return', \n",
    "            'Rolling_Std', 'Rolling_Mean', 'Rolling_Median', 'MA50', 'MA200', 'RSI', 'MACD']\n"
   ]
  },
  {
   "cell_type": "code",
   "execution_count": 9,
   "metadata": {},
   "outputs": [
    {
     "name": "stdout",
     "output_type": "stream",
     "text": [
      "The model predicts that the S&P 500 price will go DOWN tomorrow.\n"
     ]
    },
    {
     "name": "stderr",
     "output_type": "stream",
     "text": [
      "c:\\Users\\boxle\\OneDrive\\Desktop\\Stock-Market-Analysis\\stockanalysis\\lib\\site-packages\\sklearn\\base.py:458: UserWarning: X has feature names, but GradientBoostingClassifier was fitted without feature names\n",
      "  warnings.warn(\n"
     ]
    }
   ],
   "source": [
    "# Select the latest data point for prediction\n",
    "latest_data = data.iloc[-1:][features]\n",
    "\n",
    "# Make prediction\n",
    "prediction = model.predict(latest_data)\n",
    "\n",
    "# Output the result\n",
    "if prediction == 1:\n",
    "    print(\"The model predicts that the S&P 500 price will go UP tomorrow.\")\n",
    "else:\n",
    "    print(\"The model predicts that the S&P 500 price will go DOWN tomorrow.\")\n"
   ]
  },
  {
   "cell_type": "markdown",
   "metadata": {},
   "source": [
    "And there we have it, a model that predicts whether SNP500 price will increase or decrease the next day so I can know when to buy in."
   ]
  }
 ],
 "metadata": {
  "kernelspec": {
   "display_name": "stockanalysis",
   "language": "python",
   "name": "python3"
  },
  "language_info": {
   "codemirror_mode": {
    "name": "ipython",
    "version": 3
   },
   "file_extension": ".py",
   "mimetype": "text/x-python",
   "name": "python",
   "nbconvert_exporter": "python",
   "pygments_lexer": "ipython3",
   "version": "3.8.19"
  }
 },
 "nbformat": 4,
 "nbformat_minor": 2
}
